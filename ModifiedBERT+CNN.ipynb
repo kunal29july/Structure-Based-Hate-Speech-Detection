{
  "nbformat": 4,
  "nbformat_minor": 0,
  "metadata": {
    "colab": {
      "name": "ModifiedBERT+CNN.ipynb",
      "provenance": [],
      "collapsed_sections": [],
      "include_colab_link": true
    },
    "kernelspec": {
      "display_name": "Python 3",
      "language": "python",
      "name": "python3"
    },
    "language_info": {
      "codemirror_mode": {
        "name": "ipython",
        "version": 3
      },
      "file_extension": ".py",
      "mimetype": "text/x-python",
      "name": "python",
      "nbconvert_exporter": "python",
      "pygments_lexer": "ipython3",
      "version": "3.8.5"
    }
  },
  "cells": [
    {
      "cell_type": "markdown",
      "metadata": {
        "id": "view-in-github",
        "colab_type": "text"
      },
      "source": [
        "<a href=\"https://colab.research.google.com/github/kunal29july/Structure-Based-Hate-Speech-Detection/blob/main/ModifiedBERT%2BCNN.ipynb\" target=\"_parent\"><img src=\"https://colab.research.google.com/assets/colab-badge.svg\" alt=\"Open In Colab\"/></a>"
      ]
    },
    {
      "cell_type": "code",
      "metadata": {
        "id": "FLT5vmmprIPl",
        "colab": {
          "base_uri": "https://localhost:8080/"
        },
        "outputId": "ea1faa2e-09e9-4f24-d34e-8f176516e7aa"
      },
      "source": [
        "!pip3 install transformers\n",
        "!pip3 install nltk\n",
        "import numpy as np\n",
        "import torch.nn as nn\n",
        "import torch\n",
        "import torch.nn.functional as F\n",
        "import transformers\n",
        "import matplotlib.pyplot as plt\n",
        "import pandas as pd\n",
        "from torch.utils.data import TensorDataset,DataLoader\n",
        "from torch.autograd import Variable\n",
        "from sklearn.metrics import accuracy_score\n",
        "import nltk\n",
        "from nltk.stem import PorterStemmer\n",
        "from nltk.corpus import stopwords\n",
        "from nltk.tokenize import word_tokenize\n",
        "import re\n",
        "\n",
        "nltk.download('punkt')\n",
        "nltk.download('stopwords')\n",
        "nltk.download('averaged_perceptron_tagger')"
      ],
      "execution_count": null,
      "outputs": [
        {
          "output_type": "stream",
          "text": [
            "Collecting transformers\n",
            "\u001b[?25l  Downloading https://files.pythonhosted.org/packages/b0/9e/5b80becd952d5f7250eaf8fc64b957077b12ccfe73e9c03d37146ab29712/transformers-4.6.0-py3-none-any.whl (2.3MB)\n",
            "\u001b[K     |████████████████████████████████| 2.3MB 6.5MB/s \n",
            "\u001b[?25hCollecting sacremoses\n",
            "\u001b[?25l  Downloading https://files.pythonhosted.org/packages/75/ee/67241dc87f266093c533a2d4d3d69438e57d7a90abb216fa076e7d475d4a/sacremoses-0.0.45-py3-none-any.whl (895kB)\n",
            "\u001b[K     |████████████████████████████████| 901kB 28.5MB/s \n",
            "\u001b[?25hCollecting huggingface-hub==0.0.8\n",
            "  Downloading https://files.pythonhosted.org/packages/a1/88/7b1e45720ecf59c6c6737ff332f41c955963090a18e72acbcbeac6b25e86/huggingface_hub-0.0.8-py3-none-any.whl\n",
            "Collecting tokenizers<0.11,>=0.10.1\n",
            "\u001b[?25l  Downloading https://files.pythonhosted.org/packages/ae/04/5b870f26a858552025a62f1649c20d29d2672c02ff3c3fb4c688ca46467a/tokenizers-0.10.2-cp37-cp37m-manylinux2010_x86_64.whl (3.3MB)\n",
            "\u001b[K     |████████████████████████████████| 3.3MB 36.8MB/s \n",
            "\u001b[?25hRequirement already satisfied: requests in /usr/local/lib/python3.7/dist-packages (from transformers) (2.23.0)\n",
            "Requirement already satisfied: regex!=2019.12.17 in /usr/local/lib/python3.7/dist-packages (from transformers) (2019.12.20)\n",
            "Requirement already satisfied: numpy>=1.17 in /usr/local/lib/python3.7/dist-packages (from transformers) (1.19.5)\n",
            "Requirement already satisfied: tqdm>=4.27 in /usr/local/lib/python3.7/dist-packages (from transformers) (4.41.1)\n",
            "Requirement already satisfied: importlib-metadata; python_version < \"3.8\" in /usr/local/lib/python3.7/dist-packages (from transformers) (4.0.1)\n",
            "Requirement already satisfied: packaging in /usr/local/lib/python3.7/dist-packages (from transformers) (20.9)\n",
            "Requirement already satisfied: filelock in /usr/local/lib/python3.7/dist-packages (from transformers) (3.0.12)\n",
            "Requirement already satisfied: click in /usr/local/lib/python3.7/dist-packages (from sacremoses->transformers) (8.0.0)\n",
            "Requirement already satisfied: joblib in /usr/local/lib/python3.7/dist-packages (from sacremoses->transformers) (1.0.1)\n",
            "Requirement already satisfied: six in /usr/local/lib/python3.7/dist-packages (from sacremoses->transformers) (1.15.0)\n",
            "Requirement already satisfied: certifi>=2017.4.17 in /usr/local/lib/python3.7/dist-packages (from requests->transformers) (2020.12.5)\n",
            "Requirement already satisfied: chardet<4,>=3.0.2 in /usr/local/lib/python3.7/dist-packages (from requests->transformers) (3.0.4)\n",
            "Requirement already satisfied: idna<3,>=2.5 in /usr/local/lib/python3.7/dist-packages (from requests->transformers) (2.10)\n",
            "Requirement already satisfied: urllib3!=1.25.0,!=1.25.1,<1.26,>=1.21.1 in /usr/local/lib/python3.7/dist-packages (from requests->transformers) (1.24.3)\n",
            "Requirement already satisfied: zipp>=0.5 in /usr/local/lib/python3.7/dist-packages (from importlib-metadata; python_version < \"3.8\"->transformers) (3.4.1)\n",
            "Requirement already satisfied: typing-extensions>=3.6.4; python_version < \"3.8\" in /usr/local/lib/python3.7/dist-packages (from importlib-metadata; python_version < \"3.8\"->transformers) (3.7.4.3)\n",
            "Requirement already satisfied: pyparsing>=2.0.2 in /usr/local/lib/python3.7/dist-packages (from packaging->transformers) (2.4.7)\n",
            "Installing collected packages: sacremoses, huggingface-hub, tokenizers, transformers\n",
            "Successfully installed huggingface-hub-0.0.8 sacremoses-0.0.45 tokenizers-0.10.2 transformers-4.6.0\n",
            "Requirement already satisfied: nltk in /usr/local/lib/python3.7/dist-packages (3.2.5)\n",
            "Requirement already satisfied: six in /usr/local/lib/python3.7/dist-packages (from nltk) (1.15.0)\n",
            "[nltk_data] Downloading package punkt to /root/nltk_data...\n",
            "[nltk_data]   Unzipping tokenizers/punkt.zip.\n",
            "[nltk_data] Downloading package stopwords to /root/nltk_data...\n",
            "[nltk_data]   Unzipping corpora/stopwords.zip.\n",
            "[nltk_data] Downloading package averaged_perceptron_tagger to\n",
            "[nltk_data]     /root/nltk_data...\n",
            "[nltk_data]   Unzipping taggers/averaged_perceptron_tagger.zip.\n"
          ],
          "name": "stdout"
        },
        {
          "output_type": "execute_result",
          "data": {
            "text/plain": [
              "True"
            ]
          },
          "metadata": {
            "tags": []
          },
          "execution_count": 1
        }
      ]
    },
    {
      "cell_type": "code",
      "metadata": {
        "id": "jNL3KaKgrIEV",
        "colab": {
          "base_uri": "https://localhost:8080/"
        },
        "outputId": "357d64d5-203e-49cc-d5ca-a386bc466136"
      },
      "source": [
        "from google.colab import drive\n",
        "drive.mount('drive')"
      ],
      "execution_count": null,
      "outputs": [
        {
          "output_type": "stream",
          "text": [
            "Mounted at drive\n"
          ],
          "name": "stdout"
        }
      ]
    },
    {
      "cell_type": "code",
      "metadata": {
        "id": "0UDQUSvQ3VQK"
      },
      "source": [
        "import pandas as pd\n",
        "import numpy as np\n",
        "import torch\n",
        "import re\n",
        "import tqdm\n",
        "from matplotlib._path import (affine_transform, count_bboxes_overlapping_bbox,\n",
        "     update_path_extents)"
      ],
      "execution_count": null,
      "outputs": []
    },
    {
      "cell_type": "code",
      "metadata": {
        "id": "WN_z0XzM3wwQ",
        "colab": {
          "base_uri": "https://localhost:8080/",
          "height": 419
        },
        "outputId": "dd0bab13-bd38-48a9-e4fd-78d55c589d86"
      },
      "source": [
        "dataset=pd.read_csv('/content/drive/MyDrive/capstone/resampled_dataset.csv')\n",
        "dataset.dropna(inplace = True)\n",
        "df = dataset\n",
        "dataset"
      ],
      "execution_count": null,
      "outputs": [
        {
          "output_type": "execute_result",
          "data": {
            "text/html": [
              "<div>\n",
              "<style scoped>\n",
              "    .dataframe tbody tr th:only-of-type {\n",
              "        vertical-align: middle;\n",
              "    }\n",
              "\n",
              "    .dataframe tbody tr th {\n",
              "        vertical-align: top;\n",
              "    }\n",
              "\n",
              "    .dataframe thead th {\n",
              "        text-align: right;\n",
              "    }\n",
              "</style>\n",
              "<table border=\"1\" class=\"dataframe\">\n",
              "  <thead>\n",
              "    <tr style=\"text-align: right;\">\n",
              "      <th></th>\n",
              "      <th>Unnamed: 0</th>\n",
              "      <th>id</th>\n",
              "      <th>count</th>\n",
              "      <th>hate_speech</th>\n",
              "      <th>offensive_language</th>\n",
              "      <th>neither</th>\n",
              "      <th>class</th>\n",
              "      <th>tweet</th>\n",
              "    </tr>\n",
              "  </thead>\n",
              "  <tbody>\n",
              "    <tr>\n",
              "      <th>0</th>\n",
              "      <td>85</td>\n",
              "      <td>85</td>\n",
              "      <td>3</td>\n",
              "      <td>2</td>\n",
              "      <td>1</td>\n",
              "      <td>0</td>\n",
              "      <td>0</td>\n",
              "      <td>\"@Blackman38Tide: @WhaleLookyHere @HowdyDowdy1...</td>\n",
              "    </tr>\n",
              "    <tr>\n",
              "      <th>1</th>\n",
              "      <td>89</td>\n",
              "      <td>90</td>\n",
              "      <td>3</td>\n",
              "      <td>3</td>\n",
              "      <td>0</td>\n",
              "      <td>0</td>\n",
              "      <td>0</td>\n",
              "      <td>\"@CB_Baby24: @white_thunduh alsarabsss\" hes a ...</td>\n",
              "    </tr>\n",
              "    <tr>\n",
              "      <th>2</th>\n",
              "      <td>110</td>\n",
              "      <td>111</td>\n",
              "      <td>3</td>\n",
              "      <td>3</td>\n",
              "      <td>0</td>\n",
              "      <td>0</td>\n",
              "      <td>0</td>\n",
              "      <td>\"@DevilGrimz: @VigxRArts you're fucking gay, b...</td>\n",
              "    </tr>\n",
              "    <tr>\n",
              "      <th>3</th>\n",
              "      <td>184</td>\n",
              "      <td>186</td>\n",
              "      <td>3</td>\n",
              "      <td>3</td>\n",
              "      <td>0</td>\n",
              "      <td>0</td>\n",
              "      <td>0</td>\n",
              "      <td>\"@MarkRoundtreeJr: LMFAOOOO I HATE BLACK PEOPL...</td>\n",
              "    </tr>\n",
              "    <tr>\n",
              "      <th>4</th>\n",
              "      <td>202</td>\n",
              "      <td>204</td>\n",
              "      <td>3</td>\n",
              "      <td>2</td>\n",
              "      <td>1</td>\n",
              "      <td>0</td>\n",
              "      <td>0</td>\n",
              "      <td>\"@NoChillPaz: \"At least I'm not a nigger\" http...</td>\n",
              "    </tr>\n",
              "    <tr>\n",
              "      <th>...</th>\n",
              "      <td>...</td>\n",
              "      <td>...</td>\n",
              "      <td>...</td>\n",
              "      <td>...</td>\n",
              "      <td>...</td>\n",
              "      <td>...</td>\n",
              "      <td>...</td>\n",
              "      <td>...</td>\n",
              "    </tr>\n",
              "    <tr>\n",
              "      <th>9751</th>\n",
              "      <td>24736</td>\n",
              "      <td>25249</td>\n",
              "      <td>3</td>\n",
              "      <td>0</td>\n",
              "      <td>0</td>\n",
              "      <td>3</td>\n",
              "      <td>2</td>\n",
              "      <td>yaya ho.. cute avi tho RT @ViVaLa_Ari I had no...</td>\n",
              "    </tr>\n",
              "    <tr>\n",
              "      <th>9752</th>\n",
              "      <td>24737</td>\n",
              "      <td>25250</td>\n",
              "      <td>3</td>\n",
              "      <td>0</td>\n",
              "      <td>1</td>\n",
              "      <td>2</td>\n",
              "      <td>2</td>\n",
              "      <td>yea so about @N_tel 's new friend.. all my fri...</td>\n",
              "    </tr>\n",
              "    <tr>\n",
              "      <th>9753</th>\n",
              "      <td>24767</td>\n",
              "      <td>25280</td>\n",
              "      <td>3</td>\n",
              "      <td>0</td>\n",
              "      <td>1</td>\n",
              "      <td>2</td>\n",
              "      <td>2</td>\n",
              "      <td>you know what they say, the early bird gets th...</td>\n",
              "    </tr>\n",
              "    <tr>\n",
              "      <th>9754</th>\n",
              "      <td>24779</td>\n",
              "      <td>25292</td>\n",
              "      <td>3</td>\n",
              "      <td>0</td>\n",
              "      <td>1</td>\n",
              "      <td>2</td>\n",
              "      <td>2</td>\n",
              "      <td>you've gone and broke the wrong heart baby, an...</td>\n",
              "    </tr>\n",
              "    <tr>\n",
              "      <th>9755</th>\n",
              "      <td>24782</td>\n",
              "      <td>25296</td>\n",
              "      <td>3</td>\n",
              "      <td>0</td>\n",
              "      <td>0</td>\n",
              "      <td>3</td>\n",
              "      <td>2</td>\n",
              "      <td>~~Ruffled | Ntac Eileen Dahlia - Beautiful col...</td>\n",
              "    </tr>\n",
              "  </tbody>\n",
              "</table>\n",
              "<p>9756 rows × 8 columns</p>\n",
              "</div>"
            ],
            "text/plain": [
              "      Unnamed: 0  ...                                              tweet\n",
              "0             85  ...  \"@Blackman38Tide: @WhaleLookyHere @HowdyDowdy1...\n",
              "1             89  ...  \"@CB_Baby24: @white_thunduh alsarabsss\" hes a ...\n",
              "2            110  ...  \"@DevilGrimz: @VigxRArts you're fucking gay, b...\n",
              "3            184  ...  \"@MarkRoundtreeJr: LMFAOOOO I HATE BLACK PEOPL...\n",
              "4            202  ...  \"@NoChillPaz: \"At least I'm not a nigger\" http...\n",
              "...          ...  ...                                                ...\n",
              "9751       24736  ...  yaya ho.. cute avi tho RT @ViVaLa_Ari I had no...\n",
              "9752       24737  ...  yea so about @N_tel 's new friend.. all my fri...\n",
              "9753       24767  ...  you know what they say, the early bird gets th...\n",
              "9754       24779  ...  you've gone and broke the wrong heart baby, an...\n",
              "9755       24782  ...  ~~Ruffled | Ntac Eileen Dahlia - Beautiful col...\n",
              "\n",
              "[9756 rows x 8 columns]"
            ]
          },
          "metadata": {
            "tags": []
          },
          "execution_count": 4
        }
      ]
    },
    {
      "cell_type": "code",
      "metadata": {
        "id": "W6ADkaNo5QhW",
        "colab": {
          "base_uri": "https://localhost:8080/"
        },
        "outputId": "b8190b66-3581-40eb-e67e-73573b8c282a"
      },
      "source": [
        "print(\"number of tweets belonging to classes 0,1 and 2\")\n",
        "dataset.groupby('class')['id'].nunique()\n"
      ],
      "execution_count": null,
      "outputs": [
        {
          "output_type": "stream",
          "text": [
            "number of tweets belonging to classes 0,1 and 2\n"
          ],
          "name": "stdout"
        },
        {
          "output_type": "execute_result",
          "data": {
            "text/plain": [
              "class\n",
              "0    1430\n",
              "1    4163\n",
              "2    4163\n",
              "Name: id, dtype: int64"
            ]
          },
          "metadata": {
            "tags": []
          },
          "execution_count": 5
        }
      ]
    },
    {
      "cell_type": "code",
      "metadata": {
        "id": "HNzXYxq96GI8",
        "colab": {
          "base_uri": "https://localhost:8080/",
          "height": 309
        },
        "outputId": "22cff107-54e4-409e-eb21-543a366a9f9d"
      },
      "source": [
        "dataset.groupby('class')['id'].nunique().plot(kind='bar',title='Plot of number of tweets belonging to a particular class')"
      ],
      "execution_count": null,
      "outputs": [
        {
          "output_type": "execute_result",
          "data": {
            "text/plain": [
              "<matplotlib.axes._subplots.AxesSubplot at 0x7f542d3cf590>"
            ]
          },
          "metadata": {
            "tags": []
          },
          "execution_count": 6
        },
        {
          "output_type": "display_data",
          "data": {
            "image/png": "[encoded data removed]",
            "text/plain": [
              "<Figure size 432x288 with 1 Axes>"
            ]
          },
          "metadata": {
            "tags": [],
            "needs_background": "light"
          }
        }
      ]
    },
    {
      "cell_type": "markdown",
      "metadata": {
        "id": "zM4BnF7ETQUN"
      },
      "source": [
        "# **Data Cleaning**"
      ]
    },
    {
      "cell_type": "code",
      "metadata": {
        "id": "12kKtei07Cby"
      },
      "source": [
        "from nltk import tokenize\n",
        "from nltk.corpus import stopwords\n",
        "from nltk.tokenize import word_tokenize \n",
        "\n",
        "from gensim.models import Word2Vec\n",
        "\n",
        "from sklearn.model_selection import train_test_split"
      ],
      "execution_count": null,
      "outputs": []
    },
    {
      "cell_type": "code",
      "metadata": {
        "id": "57lpaYlZ7W6b",
        "colab": {
          "base_uri": "https://localhost:8080/"
        },
        "outputId": "183410ea-3e7f-470d-e05c-326f4e3f86e7"
      },
      "source": [
        "import nltk\n",
        "nltk.download('stopwords')"
      ],
      "execution_count": null,
      "outputs": [
        {
          "output_type": "stream",
          "text": [
            "[nltk_data] Downloading package stopwords to /root/nltk_data...\n",
            "[nltk_data]   Package stopwords is already up-to-date!\n"
          ],
          "name": "stdout"
        },
        {
          "output_type": "execute_result",
          "data": {
            "text/plain": [
              "True"
            ]
          },
          "metadata": {
            "tags": []
          },
          "execution_count": 8
        }
      ]
    },
    {
      "cell_type": "code",
      "metadata": {
        "id": "D-NFmeRM7E1T"
      },
      "source": [
        "stop_words= set(stopwords.words('english'))"
      ],
      "execution_count": null,
      "outputs": []
    },
    {
      "cell_type": "code",
      "metadata": {
        "id": "SRolts2eQtWd",
        "colab": {
          "base_uri": "https://localhost:8080/"
        },
        "outputId": "a946c7fb-5773-451d-f2ca-83843a0bcaab"
      },
      "source": [
        "import nltk\n",
        "nltk.download('punkt')"
      ],
      "execution_count": null,
      "outputs": [
        {
          "output_type": "stream",
          "text": [
            "[nltk_data] Downloading package punkt to /root/nltk_data...\n",
            "[nltk_data]   Package punkt is already up-to-date!\n"
          ],
          "name": "stdout"
        },
        {
          "output_type": "execute_result",
          "data": {
            "text/plain": [
              "True"
            ]
          },
          "metadata": {
            "tags": []
          },
          "execution_count": 10
        }
      ]
    },
    {
      "cell_type": "code",
      "metadata": {
        "id": "1Ks21idy7j8b"
      },
      "source": [
        "def clean_tweet(tweet):\n",
        "    tweet = re.sub(\"#\", \"\",tweet) # Removing '#' from hashtags\n",
        "    tweet = re.sub(\"[^a-zA-Z#]\", \" \",tweet) # Removing punctuation and special characters\n",
        "    tweet = re.sub(r'http[s]?://(?:[a-z]|[0-9]|[$-_@.&amp;+]|[!*\\(\\),]|(?:%[0-9a-f][0-9a-f]))+',\"<URL>\", tweet)\n",
        "    tweet = re.sub('http','',tweet)\n",
        "    tweet = re.sub(\" +\", \" \", tweet)\n",
        "    tweet = tweet.lower()\n",
        "    tweet = word_tokenize(tweet)\n",
        "    return_tweet=[]\n",
        "    for word in tweet:\n",
        "        if word not in stop_words:\n",
        "            return_tweet.append(word)\n",
        "    return return_tweet\n",
        "dataset[\"tweet\"]=dataset[\"tweet\"].apply(clean_tweet)"
      ],
      "execution_count": null,
      "outputs": []
    },
    {
      "cell_type": "markdown",
      "metadata": {
        "id": "fW-CYEDDRX9s"
      },
      "source": [
        "\n",
        "# **Word2Vec model to get the word embedings.**"
      ]
    },
    {
      "cell_type": "code",
      "metadata": {
        "id": "KVAUlPTgRdiP"
      },
      "source": [
        "model = Word2Vec(dataset[\"tweet\"].values, size=50, window=5, min_count=1, workers=4)"
      ],
      "execution_count": null,
      "outputs": []
    },
    {
      "cell_type": "code",
      "metadata": {
        "id": "iQAlyU7DRmDT"
      },
      "source": [
        "def get_features(tweet):\n",
        "    features=[]\n",
        "    for word in tweet:\n",
        "        features.append(model.wv[word])\n",
        "    return np.mean(features,0)"
      ],
      "execution_count": null,
      "outputs": []
    },
    {
      "cell_type": "code",
      "metadata": {
        "id": "PAF7_UcoRurV"
      },
      "source": [
        "dataset[\"features\"]=dataset[\"tweet\"].apply(get_features)"
      ],
      "execution_count": null,
      "outputs": []
    },
    {
      "cell_type": "code",
      "metadata": {
        "id": "7ePsy5cHSBkl"
      },
      "source": [
        "data=[]\n",
        "for i in dataset[\"features\"].values:\n",
        "    temp=[]\n",
        "    for j in i:\n",
        "        temp.append(j)\n",
        "    data.append(temp)\n",
        "data=np.array(data)"
      ],
      "execution_count": null,
      "outputs": []
    },
    {
      "cell_type": "code",
      "metadata": {
        "id": "k04GkOghSHrk"
      },
      "source": [
        "from sklearn.preprocessing import label_binarize\n",
        "\n",
        "Y = label_binarize(dataset[\"class\"].values, classes=[0, 1, 2])\n",
        "n_classes = Y.shape[1]\n",
        "X_train, X_test, y_train, y_test = train_test_split(data, Y, test_size=0.2, random_state=42)"
      ],
      "execution_count": null,
      "outputs": []
    },
    {
      "cell_type": "code",
      "metadata": {
        "id": "hIeqtdzwSbKM",
        "colab": {
          "base_uri": "https://localhost:8080/"
        },
        "outputId": "167cd46a-efc1-4b01-bb41-e5af94f359dc"
      },
      "source": [
        "print(X_train)\n",
        "print(y_train)"
      ],
      "execution_count": null,
      "outputs": [
        {
          "output_type": "stream",
          "text": [
            "[[-0.12458621  0.18175375  0.01486661 ... -0.19899854 -0.07309461\n",
            "   0.24969718]\n",
            " [-0.13633347  0.20665401  0.01791008 ... -0.2267767  -0.0788467\n",
            "   0.28360194]\n",
            " [-0.22943598  0.33416748  0.02666272 ... -0.37459517 -0.13495764\n",
            "   0.45715895]\n",
            " ...\n",
            " [-0.31836233  0.45451975  0.03857683 ... -0.5154457  -0.18361522\n",
            "   0.6316205 ]\n",
            " [-0.20151396  0.2898133   0.02489526 ... -0.32280287 -0.11531492\n",
            "   0.39358535]\n",
            " [-0.39144638  0.56535095  0.05121543 ... -0.62997144 -0.21392134\n",
            "   0.769885  ]]\n",
            "[[0 0 1]\n",
            " [0 0 1]\n",
            " [0 1 0]\n",
            " ...\n",
            " [0 1 0]\n",
            " [1 0 0]\n",
            " [0 0 1]]\n"
          ],
          "name": "stdout"
        }
      ]
    },
    {
      "cell_type": "markdown",
      "metadata": {
        "id": "tOyIgHzISsAT"
      },
      "source": [
        "# **LOGISTIC REGRESSION MODEL**"
      ]
    },
    {
      "cell_type": "code",
      "metadata": {
        "id": "SN5UHd_PSwxG"
      },
      "source": [
        "from sklearn.linear_model import LogisticRegression\n",
        "from sklearn.multiclass import OneVsRestClassifier\n",
        "from sklearn import svm\n",
        "from sklearn.metrics import f1_score\n",
        "from sklearn.metrics import recall_score\n",
        "from sklearn.metrics import precision_score\n",
        "from sklearn.metrics import precision_recall_curve\n",
        "import matplotlib.pyplot as plt\n",
        "import warnings\n",
        "warnings.filterwarnings('ignore')"
      ],
      "execution_count": null,
      "outputs": []
    },
    {
      "cell_type": "code",
      "metadata": {
        "id": "Uk19QYlqS1w2",
        "colab": {
          "base_uri": "https://localhost:8080/",
          "height": 363
        },
        "outputId": "3ba339bf-7b7f-40d3-f6c7-4130ec5cae07"
      },
      "source": [
        "lr_clf = OneVsRestClassifier(LogisticRegression(random_state=0, solver='lbfgs',multi_class='multinomial'))\n",
        "lr_clf.fit(X_train,y_train)\n",
        "y_pred = lr_clf.predict(X_test)\n",
        "f = f1_score(y_test, y_pred, average='micro')\n",
        "print(\"F1 Score: \", f)\n",
        "p = precision_score(y_test, y_pred, average='micro')\n",
        "print(\"Precision Score: \", p)\n",
        "r = recall_score(y_test, y_pred, average='micro')\n",
        "print(\"Recall Score: \", r)\n",
        "print(\"Accuracy: \", lr_clf.score(X_test,y_test))\n",
        "\n",
        "y_score = lr_clf.predict_proba(X_test)\n",
        "precision = dict()\n",
        "recall = dict()\n",
        "for i in range(n_classes):\n",
        "    precision[i], recall[i], _ = precision_recall_curve(y_test[:, i],\n",
        "                                                        y_score[:, i])\n",
        "    plt.plot(recall[i], precision[i], lw=2, label='class {}'.format(i))\n",
        "\n",
        "plt.xlabel(\"Recall\")\n",
        "plt.ylabel(\"Precision\")\n",
        "plt.legend(loc = \"best\")\n",
        "plt.title(\"Precision vs. Recall curve\")\n",
        "plt.show()"
      ],
      "execution_count": null,
      "outputs": [
        {
          "output_type": "stream",
          "text": [
            "F1 Score:  0.5224017067967083\n",
            "Precision Score:  0.6448457486832204\n",
            "Recall Score:  0.4390368852459016\n",
            "Accuracy:  0.4390368852459016\n"
          ],
          "name": "stdout"
        },
        {
          "output_type": "display_data",
          "data": {
            "image/png": "[encoded data removed]",
            "text/plain": [
              "<Figure size 432x288 with 1 Axes>"
            ]
          },
          "metadata": {
            "tags": [],
            "needs_background": "light"
          }
        }
      ]
    },
    {
      "cell_type": "markdown",
      "metadata": {
        "id": "wwwhdkyWTbc0"
      },
      "source": [
        "# ***SVM MODEL***"
      ]
    },
    {
      "cell_type": "code",
      "metadata": {
        "id": "O3NHcj2_Texm",
        "colab": {
          "base_uri": "https://localhost:8080/",
          "height": 363
        },
        "outputId": "3aa1af0a-72e0-4cec-d7dc-ebd336484447"
      },
      "source": [
        "svm_clf = OneVsRestClassifier(svm.SVC(gamma='scale', probability=True))\n",
        "svm_clf.fit(X_train,y_train)\n",
        "y_pred = svm_clf.predict(X_test)\n",
        "f = f1_score(y_test, y_pred, average='micro')\n",
        "print(\"F1 Score: \", f)\n",
        "p = precision_score(y_test, y_pred, average='micro')\n",
        "print(\"Precision Score: \", p)\n",
        "r = recall_score(y_test, y_pred, average='micro')\n",
        "print(\"Recall Score: \", r)\n",
        "print(\"Accuracy: \", svm_clf.score(X_test,y_test))\n",
        "\n",
        "y_score = svm_clf.predict_proba(X_test)\n",
        "precision = dict()\n",
        "recall = dict()\n",
        "for i in range(n_classes):\n",
        "    precision[i], recall[i], _ = precision_recall_curve(y_test[:, i],\n",
        "                                                        y_score[:, i])\n",
        "    plt.plot(recall[i], precision[i], lw=2, label='class {}'.format(i))\n",
        "\n",
        "plt.xlabel(\"Recall\")\n",
        "plt.ylabel(\"Precision\")\n",
        "plt.legend(loc = \"center right\")\n",
        "plt.title(\"Precision vs. Recall curve\")\n",
        "plt.show()"
      ],
      "execution_count": null,
      "outputs": [
        {
          "output_type": "stream",
          "text": [
            "F1 Score:  0.47672602311777573\n",
            "Precision Score:  0.6108887109687751\n",
            "Recall Score:  0.39088114754098363\n",
            "Accuracy:  0.39088114754098363\n"
          ],
          "name": "stdout"
        },
        {
          "output_type": "display_data",
          "data": {
            "image/png": "[encoded data removed]",
            "text/plain": [
              "<Figure size 432x288 with 1 Axes>"
            ]
          },
          "metadata": {
            "tags": [],
            "needs_background": "light"
          }
        }
      ]
    },
    {
      "cell_type": "markdown",
      "metadata": {
        "id": "PILAVMwP6wwS"
      },
      "source": [
        "## BERT + CNN\n"
      ]
    },
    {
      "cell_type": "markdown",
      "metadata": {
        "id": "KXUTtuVlC9zN"
      },
      "source": [
        "### Data Cleaning for BERT"
      ]
    },
    {
      "cell_type": "code",
      "metadata": {
        "id": "NBrNl2CQRGR5",
        "colab": {
          "base_uri": "https://localhost:8080/"
        },
        "outputId": "61b8c953-958d-49b8-fa3a-71258582d0d7"
      },
      "source": [
        "model_class = transformers.AutoModel\n",
        "tokenizer_class = transformers.AutoTokenizer\n",
        "pretrained_weights = 'vinai/bertweet-base'\n",
        "\n",
        "tokenizer = tokenizer_class.from_pretrained(pretrained_weights)\n",
        "bert_model = model_class.from_pretrained(pretrained_weights)"
      ],
      "execution_count": null,
      "outputs": [
        {
          "output_type": "stream",
          "text": [
            "emoji is not installed, thus not converting emoticons or emojis into text. Please install emoji: pip3 install emoji\n",
            "Special tokens have been added in the vocabulary, make sure the associated word embedding are fine-tuned or trained.\n"
          ],
          "name": "stderr"
        }
      ]
    },
    {
      "cell_type": "code",
      "metadata": {
        "id": "oEJj4o4C610k"
      },
      "source": [
        "max_seq = 35\n",
        "def tokenize_text(df, max_seq):\n",
        "    return [\n",
        "        tokenizer.encode(text, add_special_tokens=True)[:max_seq] for text in df[\"tweet\"].values\n",
        "    ]\n",
        "def pad_text(tokenized_text, max_seq):\n",
        "    return np.array([el + [0] * (max_seq - len(el)) for el in tokenized_text])\n",
        "def tokenize_and_pad_text(df, max_seq):\n",
        "    tokenized_text = tokenize_text(df, max_seq)\n",
        "    padded_text = pad_text(tokenized_text, max_seq)\n",
        "    return torch.tensor(padded_text)\n",
        "def targets_to_tensor(df, target_columns):\n",
        "    return torch.tensor(df[target_columns].values, dtype=torch.float32)"
      ],
      "execution_count": null,
      "outputs": []
    },
    {
      "cell_type": "code",
      "metadata": {
        "id": "O1HjN9bmAuA4",
        "colab": {
          "base_uri": "https://localhost:8080/"
        },
        "outputId": "550c98d1-4612-462f-9dfd-0cedac38515b"
      },
      "source": [
        "max = 0\n",
        "for i in df[\"tweet\"]:\n",
        "  if len(i) > max:\n",
        "    max = len(i)\n",
        "print(max)"
      ],
      "execution_count": null,
      "outputs": [
        {
          "output_type": "stream",
          "text": [
            "31\n"
          ],
          "name": "stdout"
        }
      ]
    },
    {
      "cell_type": "code",
      "metadata": {
        "id": "W26djDa9PrOD"
      },
      "source": [
        "for i in range(0,len(dataset[\"tweet\"])):\n",
        "  dataset[\"tweet\"][i] = \" \".join(dataset[\"tweet\"][i])"
      ],
      "execution_count": null,
      "outputs": []
    },
    {
      "cell_type": "code",
      "metadata": {
        "id": "1XHBw-khQTN7",
        "colab": {
          "base_uri": "https://localhost:8080/"
        },
        "outputId": "3445bcfa-aeca-4d40-a13a-b17d3aa52aac"
      },
      "source": [
        "dataset[\"tweet\"]"
      ],
      "execution_count": null,
      "outputs": [
        {
          "output_type": "execute_result",
          "data": {
            "text/plain": [
              "0       blackman tide whalelookyhere howdydowdy queer ...\n",
              "1       cb baby white thunduh alsarabsss hes beaner sm...\n",
              "2       devilgrimz vigxrarts fucking gay blacklisted h...\n",
              "3       markroundtreejr lmfaoooo hate black people co ...\n",
              "4             nochillpaz least nigger co rgja cfoit lmfao\n",
              "                              ...                        \n",
              "9751        yaya ho cute avi tho rt vivala ari idea sleep\n",
              "9752    yea n tel new friend friends kno allowed one c...\n",
              "9753    know say early bird gets worm puts gummy worms...\n",
              "9754      gone broke wrong heart baby drove redneck crazy\n",
              "9755    ruffled ntac eileen dahlia beautiful color com...\n",
              "Name: tweet, Length: 9756, dtype: object"
            ]
          },
          "metadata": {
            "tags": []
          },
          "execution_count": 70
        }
      ]
    },
    {
      "cell_type": "code",
      "metadata": {
        "id": "9d9rOWwpC8_E"
      },
      "source": [
        "indices = tokenize_and_pad_text(dataset, max_seq)\n",
        "\n",
        "[no,_] = list(indices.shape)"
      ],
      "execution_count": null,
      "outputs": []
    },
    {
      "cell_type": "code",
      "metadata": {
        "id": "5flY92kiDNRn"
      },
      "source": [
        "\n",
        "\n",
        "stepSize = 32\n",
        "X = np.empty([0,max_seq,768])\n",
        "\n",
        "for i in range(0,no,stepSize):\n",
        "  if no - i <= stepSize:\n",
        "    n = no\n",
        "  else:\n",
        "    n = i+stepSize\n",
        "  with torch.no_grad():\n",
        "    x = bert_model(indices[i:n,:])[0].detach().numpy()\n",
        "  X = np.vstack([X,x])"
      ],
      "execution_count": null,
      "outputs": []
    },
    {
      "cell_type": "code",
      "metadata": {
        "id": "e58kVP56BLsJ"
      },
      "source": [
        "label_col = [\"class\"]\n",
        "Y = targets_to_tensor(dataset,label_col)"
      ],
      "execution_count": null,
      "outputs": []
    },
    {
      "cell_type": "code",
      "metadata": {
        "id": "9_BhC_f2XtT-"
      },
      "source": [
        "x_train,x_val,y_train,y_val = train_test_split(X,Y,test_size=0.2,random_state=42)\n",
        "x_train = torch.tensor(x_train,dtype=torch.float32)\n",
        "x_val = torch.tensor(x_val,dtype=torch.float32)"
      ],
      "execution_count": null,
      "outputs": []
    },
    {
      "cell_type": "code",
      "metadata": {
        "id": "0PHJcfdQXtPf"
      },
      "source": [
        "loss_func = nn.CrossEntropyLoss()"
      ],
      "execution_count": null,
      "outputs": []
    },
    {
      "cell_type": "code",
      "metadata": {
        "id": "MvOBi0ILXtDq"
      },
      "source": [
        "class HTSPC_CNN(nn.Module):\n",
        "    def __init__(self,embed_num,embed_dim,class_num,kernel_num,kernel_sizes,dropout,static):\n",
        "        super(HTSPC_CNN, self).__init__()\n",
        "        \n",
        "        V = embed_num\n",
        "        D = embed_dim\n",
        "        C = class_num\n",
        "        Co = kernel_num\n",
        "        Ks = kernel_sizes\n",
        "        \n",
        "        self.static = static\n",
        "        self.emed_layer = nn.Embedding(V, D)\n",
        "        \n",
        "        self.conv1 = nn.ModuleList([nn.Conv2d(1,Co,(K, D)) for K in Ks])\n",
        "        self.dropout = nn.Dropout(dropout)\n",
        "        \n",
        "        self.lin1 = nn.Linear(len(Ks)* Co, 3)\n",
        "        self.sigmoid = nn.Sigmoid()4\n",
        "        \n",
        "        \n",
        "        \n",
        "    def forward(self,xb):\n",
        "        if self.static:\n",
        "            x = Variable(xb)\n",
        "        x = x.unsqueeze(1)\n",
        "        \n",
        "        x = [F.relu(conv(x)).squeeze(3) for conv in self.conv1]\n",
        "        x = [F.max_pool1d(i, i.size(2)).squeeze(2) for i in x]\n",
        "        \n",
        "        x = torch.cat(x, 1)\n",
        "        x = self.dropout(x)\n",
        "        x = self.lin1(x)\n",
        "        return x"
      ],
      "execution_count": null,
      "outputs": []
    },
    {
      "cell_type": "code",
      "metadata": {
        "id": "Ou_P5bKjaMO6"
      },
      "source": [
        "def loss_batch(model, loss_func, xb, yb, opt=None):\n",
        "    yb = yb.squeeze_()\n",
        "    # print(model(xb).squeeze_())\n",
        "    # print(yb)  \n",
        "    loss = loss_func(model(xb.float()), yb.long())\n",
        "\n",
        "    if opt is not None:\n",
        "        loss.backward()\n",
        "        opt.step()\n",
        "        opt.zero_grad()\n",
        "\n",
        "    return loss.item(), len(xb)"
      ],
      "execution_count": null,
      "outputs": []
    },
    {
      "cell_type": "code",
      "metadata": {
        "id": "NX-31bMeaPVi"
      },
      "source": [
        "def fit(epochs, model, loss_func, opt, train_dl, valid_dl):\n",
        "    for epoch in range(epochs):\n",
        "        model.train()\n",
        "        for xb, yb in train_dl:\n",
        "            loss_batch(model, loss_func, xb, yb, opt)\n",
        "\n",
        "        model.eval()\n",
        "        with torch.no_grad():\n",
        "            losses, nums = zip(\n",
        "                *[loss_batch(model, loss_func, xb, yb) for xb, yb in valid_dl]\n",
        "            )\n",
        "        val_loss = np.sum(np.multiply(losses, nums)) / np.sum(nums)\n",
        "\n",
        "        print(epoch, val_loss)\n"
      ],
      "execution_count": null,
      "outputs": []
    },
    {
      "cell_type": "code",
      "metadata": {
        "id": "dRPvTmP1aPSx"
      },
      "source": [
        "def get_data(train_ds, valid_ds, bs):\n",
        "    return (\n",
        "        DataLoader(train_ds, batch_size=bs, shuffle=True),\n",
        "        DataLoader(valid_ds, batch_size=bs * 2),\n",
        "    )"
      ],
      "execution_count": null,
      "outputs": []
    },
    {
      "cell_type": "code",
      "metadata": {
        "id": "sQudZUtYaPP5",
        "colab": {
          "base_uri": "https://localhost:8080/"
        },
        "outputId": "141e04c5-d1f0-49c4-9b8c-79686f0da86a"
      },
      "source": [
        "bs = 128\n",
        "epochs = 50\n",
        "learning_rate = 0.0005\n",
        "\n",
        "train_dataset = TensorDataset(x_train, y_train)\n",
        "valid_dataset = TensorDataset(x_val  , y_val  )\n",
        "\n",
        "embed_num = x_train.shape[1]\n",
        "embed_dim = x_train.shape[2]\n",
        "class_num = y_train.shape[1]\n",
        "\n",
        "print(class_num)\n",
        "\n",
        "kernel_num = 3\n",
        "kernel_sizes = [2, 3, 4]\n",
        "dropout = 0.5\n",
        "static = True\n",
        "\n",
        "train_dl, valid_dl = get_data(train_dataset, valid_dataset, bs)\n",
        "model = HTSPC_CNN(embed_num,embed_dim,class_num,kernel_num,kernel_sizes,dropout,static)\n",
        "\n",
        "opt = torch.optim.Adam(model.parameters(), lr = learning_rate)\n",
        "fit(epochs, model, loss_func, opt, train_dl, valid_dl)"
      ],
      "execution_count": null,
      "outputs": [
        {
          "output_type": "stream",
          "text": [
            "1\n",
            "0 0.8279057741165161\n",
            "1 0.7306693538290555\n",
            "2 0.6844823780607004\n",
            "3 0.6534465316866265\n",
            "4 0.6263836348643068\n",
            "5 0.6127848273417988\n",
            "6 0.6086950175097732\n",
            "7 0.5926958449551316\n",
            "8 0.5899056733631697\n",
            "9 0.5795479973808664\n",
            "10 0.5757885760948306\n",
            "11 0.5757078889940606\n",
            "12 0.5692725201122096\n",
            "13 0.5685549222055029\n",
            "14 0.5673204074140454\n",
            "15 0.5603441781685\n",
            "16 0.5612603250097056\n",
            "17 0.5620513001426322\n",
            "18 0.5612004067077011\n",
            "19 0.5611845108329273\n",
            "20 0.5609887193460934\n",
            "21 0.5571098933454419\n",
            "22 0.5553483357194995\n",
            "23 0.556860839734312\n",
            "24 0.5582409676958303\n",
            "25 0.5536659477186985\n",
            "26 0.551302975318471\n",
            "27 0.5639372438680931\n",
            "28 0.5537377165966346\n",
            "29 0.5587554847607847\n",
            "30 0.5565316423040921\n",
            "31 0.5523059485388584\n",
            "32 0.5631451137730332\n",
            "33 0.5579785606900199\n",
            "34 0.5616248181608857\n",
            "35 0.5580277120480772\n",
            "36 0.5524063716169263\n",
            "37 0.5547493500787704\n",
            "38 0.5538219682505874\n",
            "39 0.5528454448356003\n",
            "40 0.5638354322949394\n",
            "41 0.5576743727824727\n",
            "42 0.5619226567080764\n",
            "43 0.5554016799223228\n",
            "44 0.5648429491480843\n",
            "45 0.5595732448530979\n",
            "46 0.5605372122076692\n",
            "47 0.5669123403361587\n",
            "48 0.5641724379336248\n",
            "49 0.5657476685086235\n"
          ],
          "name": "stdout"
        }
      ]
    },
    {
      "cell_type": "code",
      "metadata": {
        "id": "NUfVnuXcvM7v"
      },
      "source": [
        "_,preds = torch.max(model(x_val),1)"
      ],
      "execution_count": null,
      "outputs": []
    },
    {
      "cell_type": "code",
      "metadata": {
        "id": "4F4Rf01qaPMO",
        "colab": {
          "base_uri": "https://localhost:8080/"
        },
        "outputId": "8853c20b-a37d-418a-d77b-8c0fbdac25de"
      },
      "source": [
        "print(accuracy_score(preds.detach().numpy(),y_val.detach().numpy()))"
      ],
      "execution_count": null,
      "outputs": [
        {
          "output_type": "stream",
          "text": [
            "0.7607581967213115\n"
          ],
          "name": "stdout"
        }
      ]
    },
    {
      "cell_type": "code",
      "metadata": {
        "id": "4OTxe9QUaPI_",
        "colab": {
          "base_uri": "https://localhost:8080/"
        },
        "outputId": "f26fe1ff-7f74-4c73-87ac-6cc371bd2dd1"
      },
      "source": [
        "f = f1_score(preds.detach().numpy(),y_val.detach().numpy(), average='weighted')\n",
        "print(\"F1 Score: \", f)\n",
        "p = precision_score(preds.detach().numpy(),y_val.detach().numpy(), average='weighted')\n",
        "print(\"Precision Score: \", p)\n",
        "r = recall_score(preds.detach().numpy(),y_val.detach().numpy(), average='micro')\n",
        "print(\"Recall Score: \", r)"
      ],
      "execution_count": null,
      "outputs": [
        {
          "output_type": "stream",
          "text": [
            "F1 Score:  0.8102852408757172\n",
            "Precision Score:  0.8778235174835873\n",
            "Recall Score:  0.7607581967213115\n"
          ],
          "name": "stdout"
        }
      ]
    }
  ]
}